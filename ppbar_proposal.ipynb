{
 "cells": [
  {
   "cell_type": "markdown",
   "metadata": {},
   "source": [
    "# Exercise with $p\\bar{p}$-reacion\n",
    "\n",
    "Angular coverige\n",
    "![calorimeter](ppbar/calorimeter.png)\n",
    "WASA-at-COSY calorimeter\n",
    "![Angular](ppbar/angular_covarage.png)\n",
    "Other characteristics\n",
    "![characteristics](ppbar/characteristics.png)"
   ]
  },
  {
   "cell_type": "markdown",
   "metadata": {},
   "source": [
    "## Simulation of the reaction $p\\bar{p}\\to Z_c[\\to J/\\psi\\pi\\pi]\\, \\pi\\pi $"
   ]
  },
  {
   "cell_type": "code",
   "execution_count": null,
   "metadata": {
    "collapsed": true
   },
   "outputs": [],
   "source": []
  }
 ],
 "metadata": {
  "kernelspec": {
   "display_name": "Julia 0.6.0",
   "language": "julia",
   "name": "julia-0.6"
  },
  "language_info": {
   "file_extension": ".jl",
   "mimetype": "application/julia",
   "name": "julia",
   "version": "0.6.1"
  }
 },
 "nbformat": 4,
 "nbformat_minor": 0
}
